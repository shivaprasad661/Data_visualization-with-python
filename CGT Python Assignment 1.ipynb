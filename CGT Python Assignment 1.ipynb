{
 "cells": [
  {
   "cell_type": "markdown",
   "metadata": {},
   "source": [
    "Section 1"
   ]
  },
  {
   "cell_type": "code",
   "execution_count": null,
   "metadata": {
    "id": "I5UXh83e50j4"
   },
   "outputs": [],
   "source": [
    "list_a  = [1,2,3,4,5]"
   ]
  },
  {
   "cell_type": "code",
   "execution_count": null,
   "metadata": {
    "id": "0Nbb0Pzx6XyQ"
   },
   "outputs": [],
   "source": [
    "# Print the last 2 elements of the list dont use explicit indexing : [4,5]\n"
   ]
  },
  {
   "cell_type": "code",
   "execution_count": null,
   "metadata": {
    "id": "lPBdUack6duM"
   },
   "outputs": [],
   "source": [
    "# Print [1,3,5] from list_a"
   ]
  },
  {
   "cell_type": "code",
   "execution_count": null,
   "metadata": {
    "id": "Pcgeev6G9yPq"
   },
   "outputs": [],
   "source": [
    "#insert number 6 at the end of the list and print the new list"
   ]
  },
  {
   "cell_type": "markdown",
   "metadata": {
    "id": "8E4-RgBR-eXC"
   },
   "source": [
    "Section 2"
   ]
  },
  {
   "cell_type": "code",
   "execution_count": null,
   "metadata": {
    "id": "VlSUw4h_9LDp"
   },
   "outputs": [],
   "source": [
    "# Create a phone book in python with name as the key and phone number as the value . Which data structure would you use ?"
   ]
  },
  {
   "cell_type": "code",
   "execution_count": null,
   "metadata": {
    "id": "NkHQZRXR9oth"
   },
   "outputs": [],
   "source": [
    "# of the phone book created at the top , print all the names. in a new line print all the values i.e phone numbers"
   ]
  },
  {
   "cell_type": "code",
   "execution_count": null,
   "metadata": {
    "id": "YZ1rJKix-Epb"
   },
   "outputs": [],
   "source": [
    "# Update the phonebook by details of a new user : John Doe , 898963656"
   ]
  },
  {
   "cell_type": "markdown",
   "metadata": {
    "id": "Assro0V_Dz42"
   },
   "source": [
    "Misc."
   ]
  },
  {
   "cell_type": "code",
   "execution_count": null,
   "metadata": {
    "id": "mTzaJrsdD2Hv"
   },
   "outputs": [],
   "source": [
    "# print todays date in 'dd-mm-yyyy' format ,make the nessesary imports if required"
   ]
  },
  {
   "cell_type": "markdown",
   "metadata": {
    "id": "rVuVK6NF-lL8"
   },
   "source": [
    "Section 3"
   ]
  },
  {
   "cell_type": "markdown",
   "metadata": {
    "id": "CXjjT5a4_A6r"
   },
   "source": [
    "Write a program that prints the numbers from 1 to 25 and for multiples of ‘3’ print \"Mickey\" instead of the number and for the multiples of ‘5’ print \"Mouse\". And if it is a multiple of both 3 and 5 then print \"Mickey Mouse\".<br>\n",
    "Eg. <br>\n",
    "1,2,Mickey,4,Mouse ..... "
   ]
  },
  {
   "cell_type": "code",
   "execution_count": null,
   "metadata": {
    "id": "Y3C92zDf_CUA"
   },
   "outputs": [],
   "source": [
    "#generate a list of numbers from 1 to 25\n",
    "#here\n",
    "\n",
    "# Define the logic for the problem statement and print output : Mickey , Mouse or Mickey Mouse accordingly\n",
    "#here"
   ]
  },
  {
   "cell_type": "markdown",
   "metadata": {
    "id": "CiSPi5__A7oG"
   },
   "source": [
    "Section 4"
   ]
  },
  {
   "cell_type": "markdown",
   "metadata": {
    "id": "K-ZyWb6dBcTK"
   },
   "source": [
    "Prime number is a number that is divisible only by itself and 1.<br>\n",
    "Define a function \"isPrime\"  , which takes a user provided integer as input and returns true if the number is prime , else returns false. if an invalid input is provided print(\"Invalid input passed\"). Keep in mind any special/edge cases."
   ]
  },
  {
   "cell_type": "code",
   "execution_count": null,
   "metadata": {
    "id": "Ft7sgHL3A8SC"
   },
   "outputs": [],
   "source": [
    "# Define isPrime function\n",
    "\n",
    "# To take input from the user and save it in variable called num\n",
    "\n",
    "#pass num to isPrime function and get result"
   ]
  },
  {
   "cell_type": "markdown",
   "metadata": {
    "id": "RIGARTZOEMqZ"
   },
   "source": [
    "Pandas"
   ]
  },
  {
   "cell_type": "code",
   "execution_count": null,
   "metadata": {
    "id": "fXLxqED3ENuq"
   },
   "outputs": [],
   "source": [
    "import pandas as pd\n",
    "import numpy as np\n",
    "\n",
    "df_dict = {'CUSTID': ['98981', '897892','32323','98900','98981'],\n",
    "           'CamapignID': ['C1', 'C2','C3','C1', 'C1'],\n",
    "           'Units Puchased':[2,1,7,4,2]}\n",
    "campaign_df = pd.DataFrame(data=df_dict)\n",
    "campaign_df"
   ]
  },
  {
   "cell_type": "code",
   "execution_count": null,
   "metadata": {
    "id": "g3yLxEdpExMg"
   },
   "outputs": [],
   "source": [
    "# Calculate the total Units purchased per campaign"
   ]
  },
  {
   "cell_type": "code",
   "execution_count": null,
   "metadata": {
    "id": "0BVjgXtPGQAi"
   },
   "outputs": [],
   "source": [
    "# Calculate the total Units purchased , excluding those Units sold from campaign 2 (C2)"
   ]
  },
  {
   "cell_type": "code",
   "execution_count": null,
   "metadata": {
    "id": "xJmMx9wwG9Ux"
   },
   "outputs": [],
   "source": [
    "# return / find the custid with the highest units purcahsed across all campaigns aggregations not required."
   ]
  },
  {
   "cell_type": "markdown",
   "metadata": {
    "id": "5-qQkCs1ICtO"
   },
   "source": [
    "Bucket the customers into tiers based on their Units purchased, aggregations not required .<br>\n",
    "A1 : if purchase is more than 6 Units<br>\n",
    "A2: if the purchase is between 3-5 Units , endpoints included.<br>\n",
    "Else,A3"
   ]
  },
  {
   "cell_type": "code",
   "execution_count": null,
   "metadata": {
    "id": "hZvYM0fZIA4r"
   },
   "outputs": [],
   "source": [
    "#code here"
   ]
  },
  {
   "cell_type": "markdown",
   "metadata": {
    "id": "-iu0kPhnHbyb"
   },
   "source": [
    "Section 5"
   ]
  },
  {
   "cell_type": "markdown",
   "metadata": {
    "id": "HajDylhuH06N"
   },
   "source": [
    "Create a Class Car , which accepts parameters like transmisson (manual/auto) , and make year (eg.2019). It should also contain a method 'get_make_yr' which'll return the make year of the car object. <br>\n",
    "Intantiate an object of class Car and print the make year using get_make_yr."
   ]
  },
  {
   "cell_type": "code",
   "execution_count": null,
   "metadata": {
    "id": "emn-M08NIvcc"
   },
   "outputs": [],
   "source": [
    "#code here"
   ]
  },
  {
   "cell_type": "markdown",
   "metadata": {},
   "source": [
    "Section 6"
   ]
  },
  {
   "cell_type": "markdown",
   "metadata": {},
   "source": [
    "Regex:\n",
    "\n",
    "Write a Python program to check that a string contains only a certain set of characters (in this case a-z, A-Z and 0-9)"
   ]
  },
  {
   "cell_type": "code",
   "execution_count": null,
   "metadata": {},
   "outputs": [],
   "source": [
    "#Code here"
   ]
  },
  {
   "cell_type": "markdown",
   "metadata": {},
   "source": [
    "Write a Python program that matches a word at the beginning of a string."
   ]
  },
  {
   "cell_type": "code",
   "execution_count": null,
   "metadata": {},
   "outputs": [],
   "source": [
    "#code here"
   ]
  }
 ],
 "metadata": {
  "colab": {
   "collapsed_sections": [],
   "name": "TRG Python Assignment.ipynb",
   "provenance": []
  },
  "kernelspec": {
   "display_name": "Python 3",
   "language": "python",
   "name": "python3"
  },
  "language_info": {
   "codemirror_mode": {
    "name": "ipython",
    "version": 3
   },
   "file_extension": ".py",
   "mimetype": "text/x-python",
   "name": "python",
   "nbconvert_exporter": "python",
   "pygments_lexer": "ipython3",
   "version": "3.6.5"
  }
 },
 "nbformat": 4,
 "nbformat_minor": 1
}
